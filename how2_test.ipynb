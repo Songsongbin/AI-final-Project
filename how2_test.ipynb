{
 "cells": [
  {
   "cell_type": "code",
   "execution_count": 14,
   "metadata": {},
   "outputs": [
    {
     "name": "stdout",
     "output_type": "stream",
     "text": [
      "0\n",
      "10\n",
      "crash 파손 사진 개수: 18\n",
      "dent 파손 사진 개수: 0\n",
      "glb 파손 사진 개수: 1\n",
      "scratch 파손 사진 개수: 0\n"
     ]
    }
   ],
   "source": [
    "import keras\n",
    "import tensorflow as tf\n",
    "from keras import layers\n",
    "from keras import models\n",
    "from keras import optimizers\n",
    "from keras.preprocessing import image\n",
    "import matplotlib.pyplot as plt\n",
    "import glob\n",
    "import numpy as np\n",
    "\n",
    "images1 = glob.glob('car-damage-dataset/data3a/validation/crash/*.jpeg')\n",
    "images2 = glob.glob('car-damage-dataset/data3a/validation/crash/*.jpg')\n",
    "images = images1 + images2\n",
    "crash_cnt, dent_cnt, glb_cnt,scratch_cnt = 0, 0, 0, 0\n",
    "model = keras.models.load_model(\"resnet_leakyrelu_model.h5\", custom_objects={'LeakyReLU': keras.layers.advanced_activations.LeakyReLU()})\n",
    "for i in range(len(images)):\n",
    "    if i % 10 == 0: print(i)\n",
    "    img_path = images[i]\n",
    "    # 이미지를 4D 텐서로 변경\n",
    "    img = image.load_img(img_path, target_size=(224, 224))\n",
    "    #print(img )\n",
    "    img_tensor = image.img_to_array(img)\n",
    "    #print(img_tensor.shape)\n",
    "    img_tensor = np.expand_dims(img_tensor, axis=0)\n",
    "    img_tensor /= 255.  # 모델이 훈련될 때 입력에 적용한 전처리 방식을 동일하게 사용\n",
    "    max_idx = list(model.predict(img_tensor)[0]).index(max(model.predict(img_tensor)[0]))\n",
    "    if max_idx == 0:\n",
    "        crash_cnt += 1\n",
    "        #plt.imshow(img_tensor[0])\n",
    "        #plt.show()\n",
    "    elif max_idx == 1:\n",
    "        dent_cnt += 1\n",
    "        #plt.imshow(img_tensor[0])\n",
    "        #plt.show()\n",
    "    elif max_idx == 2:\n",
    "        glb_cnt += 1\n",
    "        #plt.imshow(img_tensor[0])\n",
    "        #plt.show()\n",
    "    else:\n",
    "        scratch_cnt += 1\n",
    "print(\"crash 파손 사진 개수:\", crash_cnt)\n",
    "print(\"dent 파손 사진 개수:\", dent_cnt)de\n",
    "print(\"glb 파손 사진 개수:\", glb_cnt)\n",
    "print(\"scratch 파손 사진 개수:\", scratch_cnt)"
   ]
  },
  {
   "cell_type": "code",
   "execution_count": 15,
   "metadata": {},
   "outputs": [
    {
     "name": "stdout",
     "output_type": "stream",
     "text": [
      "0\n",
      "10\n",
      "crash 파손 사진 개수: 8\n",
      "dent 파손 사진 개수: 11\n",
      "glb 파손 사진 개수: 0\n",
      "scratch 파손 사진 개수: 0\n"
     ]
    }
   ],
   "source": [
    "images1 = glob.glob('car-damage-dataset/data3a/validation/dent/*.jpeg')\n",
    "images2 = glob.glob('car-damage-dataset/data3a/validation/dent/*.jpg')\n",
    "images = images1 + images2\n",
    "crash_cnt, dent_cnt, glb_cnt,scratch_cnt = 0, 0, 0, 0\n",
    "model = keras.models.load_model(\"resnet_leakyrelu_model.h5\", custom_objects={'LeakyReLU': keras.layers.advanced_activations.LeakyReLU()})\n",
    "for i in range(len(images)):\n",
    "    if i % 10 == 0: print(i)\n",
    "    img_path = images[i]\n",
    "    # 이미지를 4D 텐서로 변경\n",
    "    img = image.load_img(img_path, target_size=(224, 224))\n",
    "    #print(img )\n",
    "    img_tensor = image.img_to_array(img)\n",
    "    #print(img_tensor.shape)\n",
    "    img_tensor = np.expand_dims(img_tensor, axis=0)\n",
    "    img_tensor /= 255.  # 모델이 훈련될 때 입력에 적용한 전처리 방식을 동일하게 사용\n",
    "    max_idx = list(model.predict(img_tensor)[0]).index(max(model.predict(img_tensor)[0]))\n",
    "    if max_idx == 0:\n",
    "        crash_cnt += 1\n",
    "        #plt.imshow(img_tensor[0])\n",
    "        #plt.show()\n",
    "    elif max_idx == 1:\n",
    "        dent_cnt += 1\n",
    "        #plt.imshow(img_tensor[0])\n",
    "        #plt.show()\n",
    "    elif max_idx == 2:\n",
    "        glb_cnt += 1\n",
    "        #plt.imshow(img_tensor[0])\n",
    "        #plt.show()\n",
    "    else:\n",
    "        scratch_cnt += 1\n",
    "print(\"crash 파손 사진 개수:\", crash_cnt)\n",
    "print(\"dent 파손 사진 개수:\", dent_cnt)\n",
    "print(\"glb 파손 사진 개수:\", glb_cnt)\n",
    "print(\"scratch 파손 사진 개수:\", scratch_cnt)"
   ]
  },
  {
   "cell_type": "code",
   "execution_count": null,
   "metadata": {},
   "outputs": [],
   "source": []
  },
  {
   "cell_type": "code",
   "execution_count": 16,
   "metadata": {},
   "outputs": [
    {
     "name": "stdout",
     "output_type": "stream",
     "text": [
      "0\n",
      "10\n",
      "crash 파손 사진 개수: 3\n",
      "dent 파손 사진 개수: 1\n",
      "glb 파손 사진 개수: 14\n",
      "scratch 파손 사진 개수: 0\n"
     ]
    }
   ],
   "source": [
    "images1 = glob.glob('car-damage-dataset/data3a/validation/glb/*.jpeg')\n",
    "images2 = glob.glob('car-damage-dataset/data3a/validation/glb/*.jpg')\n",
    "images = images1 + images2\n",
    "crash_cnt, dent_cnt, glb_cnt,scratch_cnt = 0, 0, 0, 0\n",
    "model = keras.models.load_model(\"resnet_leakyrelu_model.h5\", custom_objects={'LeakyReLU': keras.layers.advanced_activations.LeakyReLU()})\n",
    "for i in range(len(images)):\n",
    "    if i % 10 == 0: print(i)\n",
    "    img_path = images[i]\n",
    "    # 이미지를 4D 텐서로 변경\n",
    "    img = image.load_img(img_path, target_size=(224, 224))\n",
    "    #print(img )\n",
    "    img_tensor = image.img_to_array(img)\n",
    "    #print(img_tensor.shape)\n",
    "    img_tensor = np.expand_dims(img_tensor, axis=0)\n",
    "    img_tensor /= 255.  # 모델이 훈련될 때 입력에 적용한 전처리 방식을 동일하게 사용\n",
    "    max_idx = list(model.predict(img_tensor)[0]).index(max(model.predict(img_tensor)[0]))\n",
    "    if max_idx == 0:\n",
    "        crash_cnt += 1\n",
    "        #plt.imshow(img_tensor[0])\n",
    "        #plt.show()\n",
    "    elif max_idx == 1:\n",
    "        dent_cnt += 1\n",
    "        #plt.imshow(img_tensor[0])\n",
    "        #plt.show()\n",
    "    elif max_idx == 2:\n",
    "        glb_cnt += 1\n",
    "        #plt.imshow(img_tensor[0])\n",
    "        #plt.show()\n",
    "    else:\n",
    "        scratch_cnt += 1\n",
    "print(\"crash 파손 사진 개수:\", crash_cnt)\n",
    "print(\"dent 파손 사진 개수:\", dent_cnt)\n",
    "print(\"glb 파손 사진 개수:\", glb_cnt)\n",
    "print(\"scratch 파손 사진 개수:\", scratch_cnt)"
   ]
  },
  {
   "cell_type": "code",
   "execution_count": 17,
   "metadata": {},
   "outputs": [
    {
     "name": "stdout",
     "output_type": "stream",
     "text": [
      "0\n",
      "10\n",
      "crash 파손 사진 개수: 3\n",
      "dent 파손 사진 개수: 15\n",
      "glb 파손 사진 개수: 1\n",
      "scratch 파손 사진 개수: 1\n"
     ]
    }
   ],
   "source": [
    "images1 = glob.glob('car-damage-dataset/data3a/validation/scratch/*.jpeg')\n",
    "images2 = glob.glob('car-damage-dataset/data3a/validation/scratch/*.jpg')\n",
    "images = images1 + images2\n",
    "crash_cnt, dent_cnt, glb_cnt,scratch_cnt = 0, 0, 0, 0\n",
    "model = keras.models.load_model(\"resnet_leakyrelu_model.h5\", custom_objects={'LeakyReLU': keras.layers.advanced_activations.LeakyReLU()})\n",
    "for i in range(len(images)):\n",
    "    if i % 10 == 0: print(i)\n",
    "    img_path = images[i]\n",
    "    # 이미지를 4D 텐서로 변경\n",
    "    img = image.load_img(img_path, target_size=(224, 224))\n",
    "    #print(img )\n",
    "    img_tensor = image.img_to_array(img)\n",
    "    #print(img_tensor.shape)\n",
    "    img_tensor = np.expand_dims(img_tensor, axis=0)\n",
    "    img_tensor /= 255.  # 모델이 훈련될 때 입력에 적용한 전처리 방식을 동일하게 사용\n",
    "    max_idx = list(model.predict(img_tensor)[0]).index(max(model.predict(img_tensor)[0]))\n",
    "    if max_idx == 0:\n",
    "        crash_cnt += 1\n",
    "        #plt.imshow(img_tensor[0])\n",
    "        #plt.show()\n",
    "    elif max_idx == 1:\n",
    "        dent_cnt += 1\n",
    "        #plt.imshow(img_tensor[0])\n",
    "        #plt.show()\n",
    "    elif max_idx == 2:\n",
    "        glb_cnt += 1\n",
    "        #plt.imshow(img_tensor[0])\n",
    "        #plt.show()\n",
    "    else:\n",
    "        scratch_cnt += 1\n",
    "print(\"crash 파손 사진 개수:\", crash_cnt)\n",
    "print(\"dent 파손 사진 개수:\", dent_cnt)\n",
    "print(\"glb 파손 사진 개수:\", glb_cnt)\n",
    "print(\"scratch 파손 사진 개수:\", scratch_cnt)"
   ]
  },
  {
   "cell_type": "code",
   "execution_count": null,
   "metadata": {},
   "outputs": [],
   "source": []
  }
 ],
 "metadata": {
  "kernelspec": {
   "display_name": "Python 3",
   "language": "python",
   "name": "python3"
  },
  "language_info": {
   "codemirror_mode": {
    "name": "ipython",
    "version": 3
   },
   "file_extension": ".py",
   "mimetype": "text/x-python",
   "name": "python",
   "nbconvert_exporter": "python",
   "pygments_lexer": "ipython3",
   "version": "3.8.5"
  }
 },
 "nbformat": 4,
 "nbformat_minor": 4
}
